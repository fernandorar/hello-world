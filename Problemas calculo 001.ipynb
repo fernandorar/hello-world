{
 "cells": [
  {
   "cell_type": "markdown",
   "metadata": {},
   "source": [
    "Reference:\n",
    "    https://www.math-only-math.com/worksheet-on-word-problems-on-four-operations.html"
   ]
  },
  {
   "cell_type": "markdown",
   "metadata": {},
   "source": [
    "<div class=\"alert alert-block alert-info\">\n",
    "<b>Tip:</b> En python podemos utilizar under score [ _ ] como separador de miles \n",
    "    en el código y no tiene efecto alguno, aparte de facilitar la lectura para el usuario\n",
    "</div>"
   ]
  },
  {
   "cell_type": "markdown",
   "metadata": {},
   "source": [
    "#### 1.Problem:\n",
    "The population of a town is 198,568. Out of them 45,312 are men and 35,678 are women. Find the number of children in the town."
   ]
  },
  {
   "cell_type": "code",
   "execution_count": 83,
   "metadata": {
    "scrolled": false
   },
   "outputs": [
    {
     "name": "stdout",
     "output_type": "stream",
     "text": [
      "Number of child 117,578\n"
     ]
    }
   ],
   "source": [
    "# Utilizamos el under score como separador de miles, que es inocuo a efectos de compilación, pero\n",
    "# facilita la lectura al usuario.\n",
    "total_population = 198_568\n",
    "men = 45_312\n",
    "woman = 35_678\n",
    "child = total_population - (men+woman)\n",
    "# Método de formateo numérico para verisiones  ≥ 3.6\n",
    "print(f'Number of child {child:,}')"
   ]
  },
  {
   "cell_type": "markdown",
   "metadata": {},
   "source": [
    "<div class=\"alert alert-block alert-info\">\n",
    "<b>Tip:</b> Podemos utilizar varios métodos para formatear el resultados con separador de miles.<br><ul>\n",
    "<li>El más sencillo es el de utilizar [<code>value:,</code>] que nos los coloca directamente.</li>\n",
    "<li>El otro es el de utilizar la clase format, en el que le pasamos <code>format(value, ',d')</code></li></ul>\n",
    "</div>"
   ]
  },
  {
   "cell_type": "markdown",
   "metadata": {},
   "source": [
    "#### 2.Problem:\n",
    "A shopkeeper has 2,425 boxes of 24 pencils each. How many pencils do all the boxes have in all?"
   ]
  },
  {
   "cell_type": "code",
   "execution_count": 59,
   "metadata": {},
   "outputs": [
    {
     "name": "stdout",
     "output_type": "stream",
     "text": [
      "Total number of pencils : 58,200\n"
     ]
    }
   ],
   "source": [
    "number_of_boxes=2_425\n",
    "pencils_per_box=24\n",
    "total_number_of_pencils=number_of_boxes*pencils_per_box\n",
    "print(f'Total number of pencils : {total_number_of_pencils:,}')"
   ]
  },
  {
   "cell_type": "markdown",
   "metadata": {},
   "source": [
    "#### 3.Problem:\n",
    "Linda bought a coat for \\\\$2,265 and a saree for \\\\$2,150. She gave \\\\$5,000 to the shopkeeper. How much money did the shopkeeper return to her?"
   ]
  },
  {
   "cell_type": "code",
   "execution_count": 60,
   "metadata": {},
   "outputs": [
    {
     "name": "stdout",
     "output_type": "stream",
     "text": [
      "Total change: $585\n"
     ]
    }
   ],
   "source": [
    "coat=2_265\n",
    "saree=2_150\n",
    "pay=5_000\n",
    "change=pay-(coat+saree)\n",
    "print(f'Total change: ${change:,}')"
   ]
  },
  {
   "cell_type": "markdown",
   "metadata": {},
   "source": [
    "#### 4.Problem:\n",
    "The cost of 21 TV sets is $95,844 Find the cost of one TV set."
   ]
  },
  {
   "cell_type": "code",
   "execution_count": 62,
   "metadata": {},
   "outputs": [
    {
     "name": "stdout",
     "output_type": "stream",
     "text": [
      "Single TV cost : $4,564.0\n"
     ]
    }
   ],
   "source": [
    "full_set = 21\n",
    "full_set_cost=95_844\n",
    "single_set_cost=full_set_cost/full_set\n",
    "print(f'Single TV cost : ${single_set_cost:,}')"
   ]
  },
  {
   "cell_type": "markdown",
   "metadata": {},
   "source": [
    "#### 5.Problem:\n",
    "A factory produces 24,532 bulbs in a month. What is its annual production?"
   ]
  },
  {
   "cell_type": "code",
   "execution_count": 64,
   "metadata": {},
   "outputs": [
    {
     "name": "stdout",
     "output_type": "stream",
     "text": [
      "Annual production 294,384 bulbs.\n"
     ]
    }
   ],
   "source": [
    "bulbs_per_month=24_532\n",
    "annual_production=bulbs_per_month*12\n",
    "print(f'Annual production {annual_production:,} bulbs.')\n"
   ]
  },
  {
   "cell_type": "markdown",
   "metadata": {},
   "source": [
    "#### 6.Problem:\n",
    "There are 145,968 bags of sugar, 236,487 bags of wheat and some bags of rice in a godown. It the total number of bags in the godown is 450,000, find the number of bags of rice."
   ]
  },
  {
   "cell_type": "code",
   "execution_count": 65,
   "metadata": {},
   "outputs": [
    {
     "name": "stdout",
     "output_type": "stream",
     "text": [
      "Total bags of rice: 67,545\n"
     ]
    }
   ],
   "source": [
    "bags_sugar=145_968\n",
    "bags_wheat=236_487\n",
    "total_bags=450_000\n",
    "bags_rice=total_bags-(bags_sugar+bags_wheat)\n",
    "print(f'Total bags of rice: {bags_rice:,}')"
   ]
  },
  {
   "cell_type": "markdown",
   "metadata": {},
   "source": [
    "#### 7.Problem:\n",
    "A factory manufactured 483,685 toys in three weeks. The production in first week was 146,345 toys and in second week 138,152 toys. Find the production in the third week."
   ]
  },
  {
   "cell_type": "code",
   "execution_count": 69,
   "metadata": {},
   "outputs": [
    {
     "name": "stdout",
     "output_type": "stream",
     "text": [
      "Production on third week: 199,188\n"
     ]
    }
   ],
   "source": [
    "total_production=483_685\n",
    "first_week=146_345\n",
    "second_week=138_152\n",
    "third_week=total_production-(first_week+second_week)\n",
    "print(f'Production on third week: {third_week:,}')"
   ]
  },
  {
   "cell_type": "markdown",
   "metadata": {},
   "source": [
    "#### 8.Problem:\n",
    "The cost of a sofa set is $9,372. How much will 124 such sofa sets cost?"
   ]
  },
  {
   "cell_type": "code",
   "execution_count": 67,
   "metadata": {},
   "outputs": [
    {
     "name": "stdout",
     "output_type": "stream",
     "text": [
      "Total cost of 124 sofas: $1,162,128\n"
     ]
    }
   ],
   "source": [
    "sofa_cost=9_372\n",
    "number_of_sofas=124\n",
    "total_cost=sofa_cost*number_of_sofas\n",
    "print(f'Total cost of 124 sofas: ${total_cost:,}')"
   ]
  },
  {
   "cell_type": "markdown",
   "metadata": {},
   "source": [
    "#### 9.Problem:\n",
    "There are 86 rooms in a school. 4,356 students study there. Equal number of students sits in each room?"
   ]
  },
  {
   "cell_type": "code",
   "execution_count": 74,
   "metadata": {},
   "outputs": [
    {
     "name": "stdout",
     "output_type": "stream",
     "text": [
      "The number of strudents per room is 51\n"
     ]
    }
   ],
   "source": [
    "total_rooms=86\n",
    "total_students=4_356\n",
    "students_per_room=total_students/total_rooms\n",
    "print(f'The number of strudents per room is {round(students_per_room)}.')"
   ]
  },
  {
   "cell_type": "markdown",
   "metadata": {},
   "source": [
    "<div class=\"alert alert-block alert-info\">\n",
    "<b>Tip:</b> Podemos utilizar la función round para redondear el resultado a la precisión requerida.<ol><code>round(value, precission)</code></ol>\n",
    "</div>"
   ]
  },
  {
   "cell_type": "markdown",
   "metadata": {},
   "source": [
    "#### 10.Problem:\n",
    "1,575 students of a school want to go Agra by bus. If one bus can carry 75 students, how many buses are required to carry all the students?"
   ]
  },
  {
   "cell_type": "code",
   "execution_count": 76,
   "metadata": {},
   "outputs": [
    {
     "name": "stdout",
     "output_type": "stream",
     "text": [
      "We require 21.0 buses to carry everyone.\n"
     ]
    }
   ],
   "source": [
    "total_students=1_575\n",
    "bus_capacity=75\n",
    "buses_needed=total_students/bus_capacity\n",
    "print(f'We require {buses_needed:,} buses to carry everyone.')"
   ]
  },
  {
   "cell_type": "markdown",
   "metadata": {},
   "source": [
    "#### 11.Problem:\n",
    "The cost of a radio set is $1,475. What is the cost of 35 such radio sets?"
   ]
  },
  {
   "cell_type": "code",
   "execution_count": 78,
   "metadata": {},
   "outputs": [
    {
     "name": "stdout",
     "output_type": "stream",
     "text": [
      "The total cost of 35 radio sets is $51,625.\n"
     ]
    }
   ],
   "source": [
    "radio_set_cost=1_475\n",
    "number_of_sets=35\n",
    "total_cost=radio_set_cost*number_of_sets\n",
    "print(f'The total cost of {number_of_sets} radio sets is ${total_cost:,}.')"
   ]
  },
  {
   "cell_type": "markdown",
   "metadata": {},
   "source": [
    "#### 12.Problem:\n",
    "In an election, 52,496 people voted for Ron, 44,929 people for Jhon and 36,824 people for Mike in a town. If everyone voted in the town, what is the total number of voters?"
   ]
  },
  {
   "cell_type": "code",
   "execution_count": 81,
   "metadata": {},
   "outputs": [
    {
     "name": "stdout",
     "output_type": "stream",
     "text": [
      "Total number of voters 134,249.\n"
     ]
    }
   ],
   "source": [
    "ron_voters=52_496\n",
    "jhon_voters=44_929\n",
    "mike_voters=36_824\n",
    "total_voters=ron_voters+jhon_voters+mike_voters\n",
    "print(f'Total number of voters {total_voters:,}.')"
   ]
  },
  {
   "cell_type": "markdown",
   "metadata": {},
   "source": [
    "#### 13.Problem:\n",
    "Maria bought 96 toys priced equally for \\\\$12,960. The amount of \\\\$1,015 is still left with her. Find the cost of each toy and the amount she had."
   ]
  },
  {
   "cell_type": "code",
   "execution_count": 82,
   "metadata": {},
   "outputs": [
    {
     "name": "stdout",
     "output_type": "stream",
     "text": [
      "Each toy cost $135.0. Maria had $13,975\n"
     ]
    }
   ],
   "source": [
    "number_of_toys=96\n",
    "total_price=12_960\n",
    "toy_price=total_price/number_of_toys\n",
    "money_left=1_015\n",
    "total_money=total_price+money_left\n",
    "print(f'Each toy cost ${toy_price:,}. Maria had ${total_money:,}')"
   ]
  },
  {
   "cell_type": "markdown",
   "metadata": {},
   "source": [
    "### Answers:\n",
    "1. 117,578 children.\n",
    "2. 58,200 pencils.\n",
    "3. \\\\$585\n",
    "4. \\\\$4,564\n",
    "5. 294,384 bulbs.\n",
    "6. 67,545 bags.\n",
    "7. 199,188 toys.\n",
    "8. \\\\$1,162,128\n",
    "9. 51 students.\n",
    "10. 21 buses.\n",
    "11. \\\\$51,625\n",
    "12. 134,249\n",
    "13. \\\\$135, \\\\$13975"
   ]
  },
  {
   "cell_type": "code",
   "execution_count": null,
   "metadata": {},
   "outputs": [],
   "source": []
  }
 ],
 "metadata": {
  "kernelspec": {
   "display_name": "Python 3",
   "language": "python",
   "name": "python3"
  },
  "language_info": {
   "codemirror_mode": {
    "name": "ipython",
    "version": 3
   },
   "file_extension": ".py",
   "mimetype": "text/x-python",
   "name": "python",
   "nbconvert_exporter": "python",
   "pygments_lexer": "ipython3",
   "version": "3.8.5"
  }
 },
 "nbformat": 4,
 "nbformat_minor": 5
}
